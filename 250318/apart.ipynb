{
  "nbformat": 4,
  "nbformat_minor": 0,
  "metadata": {
    "colab": {
      "provenance": []
    },
    "kernelspec": {
      "name": "python3",
      "display_name": "Python 3"
    },
    "language_info": {
      "name": "python"
    }
  },
  "cells": [
    {
      "cell_type": "code",
      "execution_count": 1,
      "metadata": {
        "colab": {
          "base_uri": "https://localhost:8080/"
        },
        "id": "6k37T1FpB3Sq",
        "outputId": "199929e6-1bd7-4212-b7f7-7d4f5a4d72ab"
      },
      "outputs": [
        {
          "output_type": "stream",
          "name": "stdout",
          "text": [
            "                            OLS Regression Results                            \n",
            "==============================================================================\n",
            "Dep. Variable:                  price   R-squared:                       0.920\n",
            "Model:                            OLS   Adj. R-squared:                  0.895\n",
            "Method:                 Least Squares   F-statistic:                     36.34\n",
            "Date:                Tue, 18 Mar 2025   Prob (F-statistic):           1.17e-10\n",
            "Time:                        06:54:47   Log-Likelihood:                -303.07\n",
            "No. Observations:                  30   AIC:                             622.1\n",
            "Df Residuals:                      22   BIC:                             633.3\n",
            "Df Model:                           7                                         \n",
            "Covariance Type:            nonrobust                                         \n",
            "====================================================================================\n",
            "                       coef    std err          t      P>|t|      [0.025      0.975]\n",
            "------------------------------------------------------------------------------------\n",
            "Intercept         2.824e+05   2.74e+05      1.031      0.314   -2.86e+05     8.5e+05\n",
            "size               744.6203     72.489     10.272      0.000     594.287     894.954\n",
            "age              -2588.6558   3153.796     -0.821      0.421   -9129.228    3951.917\n",
            "kindergarten     -2450.1524   7178.855     -0.341      0.736   -1.73e+04    1.24e+04\n",
            "elementarySchool -2659.9681   8456.063     -0.315      0.756   -2.02e+04    1.49e+04\n",
            "busStop          -5138.2053   6156.297     -0.835      0.413   -1.79e+04    7629.174\n",
            "hospital         -7766.4461   2.07e+04     -0.375      0.711   -5.07e+04    3.52e+04\n",
            "mart              7191.8253   8164.132      0.881      0.388   -9739.547    2.41e+04\n",
            "==============================================================================\n",
            "Omnibus:                        0.713   Durbin-Watson:                   1.290\n",
            "Prob(Omnibus):                  0.700   Jarque-Bera (JB):                0.558\n",
            "Skew:                          -0.317   Prob(JB):                        0.756\n",
            "Kurtosis:                       2.788   Cond. No.                     2.84e+04\n",
            "==============================================================================\n",
            "\n",
            "Notes:\n",
            "[1] Standard Errors assume that the covariance matrix of the errors is correctly specified.\n",
            "[2] The condition number is large, 2.84e+04. This might indicate that there are\n",
            "strong multicollinearity or other numerical problems.\n"
          ]
        }
      ],
      "source": [
        "import pandas as pd\n",
        "from statsmodels.formula.api import ols\n",
        "\n",
        "# 데이터 준비 (30개 샘플)\n",
        "price = [174000, 156500, 168000, 145000, 190000, 185000, 172000, 160000, 155000, 150000,\n",
        "         148000, 142000, 138000, 135000, 180000, 175000, 162000, 158000, 153000, 140000,\n",
        "         137000, 132000, 130000, 128000, 125000, 122000, 119000, 100000, 139500, 160500]\n",
        "\n",
        "size = [152, 118, 118, 85, 160, 140, 130, 128, 125, 120,\n",
        "        115, 110, 108, 105, 150, 145, 140, 138, 135, 130,\n",
        "        128, 125, 120, 118, 115, 112, 110, 59, 128, 128]\n",
        "\n",
        "age = [19, 19, 19, 19, 17, 17, 17, 16, 16, 16,\n",
        "       15, 15, 15, 15, 14, 14, 14, 14, 13, 13,\n",
        "       13, 12, 12, 12, 12, 12, 11, 11, 11, 11]\n",
        "\n",
        "kindergarten = [22, 22, 22, 22, 20, 20, 20, 18, 18, 18,\n",
        "                16, 16, 16, 14, 14, 14, 12, 12, 12, 10,\n",
        "                10, 10, 8, 8, 8, 6, 6, 4, 4, 4]\n",
        "\n",
        "elementarySchool = [10, 10, 10, 10, 11, 11, 11, 11, 11, 12,\n",
        "                    12, 12, 12, 13, 13, 13, 14, 14, 14, 15,\n",
        "                    15, 15, 16, 16, 16, 17, 17, 12, 12, 12]\n",
        "\n",
        "busStop = [13, 13, 13, 13, 15, 15, 15, 17, 17, 17,\n",
        "           18, 18, 18, 20, 20, 20, 22, 22, 22, 24,\n",
        "           24, 24, 26, 26, 26, 28, 28, 29, 29, 29]\n",
        "\n",
        "hospital = [19, 19, 19, 19, 18, 18, 18, 17, 17, 17,\n",
        "            16, 16, 16, 15, 15, 15, 14, 14, 14, 13,\n",
        "            13, 13, 12, 12, 12, 11, 11, 14, 14, 14]\n",
        "\n",
        "mart = [19, 19, 19, 19, 18, 18, 18, 16, 16, 16,\n",
        "        15, 15, 15, 14, 14, 14, 13, 13, 13, 12,\n",
        "        12, 12, 11, 11, 11, 10, 10, 14, 14, 14]\n",
        "\n",
        "data = {'price': price, 'size': size, 'age': age, 'kindergarten':\n",
        "kindergarten, 'elementarySchool': elementarySchool, 'busStop': busStop,\n",
        "'hospital': hospital, 'mart': mart}\n",
        "df = pd.DataFrame(data)\n",
        "fit = ols('price ~ size + age + kindergarten + elementarySchool + busStop + hospital + mart', data=df).fit( )\n",
        "print(fit.summary( ))\n"
      ]
    }
  ]
}