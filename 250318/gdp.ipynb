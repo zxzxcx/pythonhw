{
  "nbformat": 4,
  "nbformat_minor": 0,
  "metadata": {
    "colab": {
      "provenance": []
    },
    "kernelspec": {
      "name": "python3",
      "display_name": "Python 3"
    },
    "language_info": {
      "name": "python"
    }
  },
  "cells": [
    {
      "cell_type": "code",
      "execution_count": 2,
      "metadata": {
        "colab": {
          "base_uri": "https://localhost:8080/"
        },
        "id": "6k37T1FpB3Sq",
        "outputId": "7f5a56f6-c302-4bda-beb6-d11f17d2c278"
      },
      "outputs": [
        {
          "output_type": "stream",
          "name": "stdout",
          "text": [
            "Pearson Correlation Analysis\n",
            "          GDP 성장률       인구수\n",
            "GDP 성장률  1.000000  0.198924\n",
            "인구수      0.198924  1.000000\n",
            "\n",
            "Spearman Correlation Analysis\n",
            "          GDP 성장률       인구수\n",
            "GDP 성장률  1.000000 -0.196388\n",
            "인구수     -0.196388  1.000000\n",
            "\n",
            "Kendall Correlation Analysis\n",
            "          GDP 성장률       인구수\n",
            "GDP 성장률  1.000000 -0.137568\n",
            "인구수     -0.137568  1.000000\n"
          ]
        }
      ],
      "source": [
        "import pandas as pd\n",
        "\n",
        "# 데이터 생성\n",
        "data = {\n",
        "    \"국가\": [\"미국\", \"일본\", \"영국\", \"프랑스\", \"독일\", \"이탈리아\", \"캐나다\",\n",
        "             \"대한민국\", \"러시아\", \"중국\", \"인도\", \"인도네시아\", \"아르헨티나\",\n",
        "             \"브라질\", \"멕시코\", \"호주\", \"남아프리카공화국\", \"사우디아라비아\",\n",
        "             \"튀르키예\", \"유럽연합(EU)\"],\n",
        "    \"GDP 성장률\": [0.9, 0.6, 0.4, 0.5, 1.1, 1.7, 3.9, 1.4, -3.7, 2.9, 6.3,\n",
        "                 5.01, 5.9, 3.6, 3.5, 5.9, 4.1, 5.4, 3.9, 1.9],\n",
        "    \"인구수\": [334, 125, 67.53, 67.65, 83.16, 59.24, 38.44, 51.74, 146, 1412,\n",
        "              1380, 273, 45.81, 213, 126, 25.77, 60.14, 34.11, 84.68, 343]\n",
        "}\n",
        "\n",
        "# DataFrame 생성 및 국가를 인덱스로 설정\n",
        "df = pd.DataFrame(data)\n",
        "df.set_index(\"국가\", inplace=True)\n",
        "\n",
        "# 상관계수 계산\n",
        "pearsonCoef = df.corr(method=\"pearson\")\n",
        "spearmanCoef = df.corr(method=\"spearman\")\n",
        "kendallCoef = df.corr(method=\"kendall\")\n",
        "\n",
        "# 결과 출력\n",
        "print(\"Pearson Correlation Analysis\")\n",
        "print(pearsonCoef)\n",
        "\n",
        "print(\"\\nSpearman Correlation Analysis\")\n",
        "print(spearmanCoef)\n",
        "\n",
        "print(\"\\nKendall Correlation Analysis\")\n",
        "print(kendallCoef)\n"
      ]
    }
  ]
}